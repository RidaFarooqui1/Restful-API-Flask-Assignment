{
  "nbformat": 4,
  "nbformat_minor": 0,
  "metadata": {
    "colab": {
      "provenance": []
    },
    "kernelspec": {
      "name": "python3",
      "display_name": "Python 3"
    },
    "language_info": {
      "name": "python"
    }
  },
  "cells": [
    {
      "cell_type": "markdown",
      "source": [
        "# 1. What is a RESTful API?\n",
        "\n",
        "Ans-> A RESTful API is a type of API that uses the principles of Representational State Transfer (REST) to communicate between different systems over the internet"
      ],
      "metadata": {
        "id": "Q2ucgInEMu-U"
      }
    },
    {
      "cell_type": "markdown",
      "source": [
        "# 2.Explain the concept of API specification.\n",
        "\n",
        "Ans-> An API (Application Programming Interface) specification is a formal document that describes how an API behaves, including its functionalities, data models, and interaction methods\n"
      ],
      "metadata": {
        "id": "GvcfJz5mMu2u"
      }
    },
    {
      "cell_type": "markdown",
      "source": [
        "# 3.What is Flask, and why is it popular for building APIs?\n",
        "\n",
        "Ans-> Flask is a lightweight and flexible micro-framework for building web applications and APIs in Python. It's known for its simplicity and ease of use, making it a popular choice for creating RESTful APIs and microservices."
      ],
      "metadata": {
        "id": "UvSHYFp0Mutr"
      }
    },
    {
      "cell_type": "markdown",
      "source": [
        "# 4. What is routing in Flask?\n",
        "\n",
        "Ans-> routing is the mechanism that maps specific URL paths to corresponding functions, known as view functions."
      ],
      "metadata": {
        "id": "B8YV2lSJMuX6"
      }
    },
    {
      "cell_type": "markdown",
      "source": [
        "# 5. How do you create a simple Flask application?\n",
        "\n",
        "Ans-> Here's how to create a simple Flask application in Python:\n",
        "\n",
        "* Install Flask: Install Flask using pip.\n",
        "* Create the application file: Create a new Python file (e.g., app.py).\n",
        "* Run the application: In the terminal, navigate to the directory containing app.py.\n"
      ],
      "metadata": {
        "id": "SfJnPLloMuP5"
      }
    },
    {
      "cell_type": "markdown",
      "source": [
        "# 6.What are HTTP methods used in RESTful APIs?\n",
        "\n",
        "Ans-> In RESTful APIs, HTTP methods are used to define the type of operation being performed on a resource.\n",
        "\n"
      ],
      "metadata": {
        "id": "JjYBJq3WMuH8"
      }
    },
    {
      "cell_type": "markdown",
      "source": [
        "# 7.What is the purpose of the @app.route() decorator in Flask?\n",
        "\n",
        "Ans-> The @app.route() decorator in Flask serves to bind a specific URL route to a Python function. When a user accesses that URL in their browser, Flask executes the associated function and returns its output as the response.\n"
      ],
      "metadata": {
        "id": "hPb5wb9qMt_6"
      }
    },
    {
      "cell_type": "markdown",
      "source": [
        "# 8.What is the difference between GET and POST HTTP method?\n",
        "\n",
        "Ans->\n",
        "GET:\n",
        "* Retrieving Data: GET is used to request data from a server.\n",
        "* Data in URL: Data is included in the URL as query parameters.\n",
        "* Idempotent: Multiple identical GET requests should return the same result.\n",
        "\n",
        "POST:\n",
        "* Sending Data: POST is used to send data to the server, often for creating or modifying resources.\n",
        "* Data in Request Body: Data is sent in the request body of the HTTP message.\n",
        "* Non-Idempotent: Multiple identical POST requests can have different effects, especially when creating resources."
      ],
      "metadata": {
        "id": "Vs2WYvBsMt32"
      }
    },
    {
      "cell_type": "markdown",
      "source": [
        "# 9.How do you handle errors in Flask APIs?\n",
        "\n",
        "Ans-> Error handling in Flask APIs can be implemented using several approaches:\n",
        "* Using try-except blocks\n",
        "* Using Flask's errorhandler decorator\n",
        "* Creating custom exception classes\n",
        "* Using Flask-RESTful's error handling"
      ],
      "metadata": {
        "id": "ishgjk8bMtvZ"
      }
    },
    {
      "cell_type": "markdown",
      "source": [
        "# 10.How do you connect Flask to a SQL database?\n",
        "\n",
        "Ans-> To create a database we need to import SQLAlchemy in app.py, set up SQLite configuration, and create a database instance as shown below. We set up Flask, connect it to a SQLite database (site. db), and use db. create_all() to create the database when the app runs."
      ],
      "metadata": {
        "id": "GBk6SNDMMtny"
      }
    },
    {
      "cell_type": "markdown",
      "source": [
        "# 11.What is the role of Flask-SQLAlchemy?\n",
        "\n",
        "Ans-> Flask-SQLAlchemy is a Flask extension that makes using SQLAlchemy with Flask easier, providing you tools and methods to interact with your database in your Flask applications through SQLAlchemy\n",
        ""
      ],
      "metadata": {
        "id": "IQ-M_GMQMtgS"
      }
    },
    {
      "cell_type": "markdown",
      "source": [
        "# 12.What are Flask blueprints, and how are they useful?\n",
        "\n",
        "Ans-> Each Flask Blueprint is an object that works very similarly to a Flask application. They both can have resources, such as static files, templates, and views that are associated with routes"
      ],
      "metadata": {
        "id": "JF88e1mBMtYU"
      }
    },
    {
      "cell_type": "markdown",
      "source": [
        "# 13.What is the purpose of Flask's request object?\n",
        "\n",
        "Ans-> The Flask request object serves as a central container for all incoming data associated with a client's request to the server.\n"
      ],
      "metadata": {
        "id": "Jnd6I8MnMtQj"
      }
    },
    {
      "cell_type": "markdown",
      "source": [
        "# 14.How do you create a RESTful API endpoint using Flask?\n",
        "\n",
        "Ans-> Here's how to create a RESTful API endpoint using Flask: Import necessary modules.\n",
        "* Create a Flask app instance.\n",
        "* Define the route and HTTP method.\n",
        "* Run the app."
      ],
      "metadata": {
        "id": "BPNUsSljMtHs"
      }
    },
    {
      "cell_type": "markdown",
      "source": [
        "# 15.What is the purpose of Flask's jsonify() function?\n",
        "\n",
        "Ans-> Flask's jsonify() function converts Python dictionaries or lists into JSON format and automatically sets the response's content type to application/json, making it ideal for creating REST APIs. This function simplifies returning JSON data in Flask routes, ensuring proper handling of JSON responses."
      ],
      "metadata": {
        "id": "cbLNVTfkMs-w"
      }
    },
    {
      "cell_type": "markdown",
      "source": [
        "# 16.Explain Flask’s url_for() function.\n",
        "\n",
        "Ans-> In Flask, the url_for() function generates a URL to a specific function based on its name and arguments. It helps avoid hardcoding URLs in templates and code, making applications more maintainable and flexible"
      ],
      "metadata": {
        "id": "nComu8aSMs3o"
      }
    },
    {
      "cell_type": "markdown",
      "source": [
        "# 17.How does Flask handle static files (CSS, JavaScript, etc.)?\n",
        "\n",
        "Ans-> Flask automatically handles static files like CSS, JavaScript, and images by serving them from a designated folder named \"static\" within the application's directory or package."
      ],
      "metadata": {
        "id": "BuuURcd1Msvn"
      }
    },
    {
      "cell_type": "markdown",
      "source": [
        "# 18.What is an API specification, and how does it help in building a Flask API?\n",
        "\n",
        "Ans-> An API (Application Programming Interface) specification is a formal document that describes the behavior, requirements, and expected functionality of an API. It essentially acts as a blueprint for how developers should interact with the API. When used in conjunction with building a Flask API, the API specification facilitates a structured and predictable approach to development, ensuring consistency and clarity.\n"
      ],
      "metadata": {
        "id": "7YuBDPSUMsoY"
      }
    },
    {
      "cell_type": "markdown",
      "source": [
        "# 19.What are HTTP status codes, and why are they important in a Flask API?\n",
        "\n",
        "Ans-> HTTP status codes are three-digit codes that indicate the outcome of an API request. They are included in the API's response to the API client, and they include important information that helps the client know how to proceed."
      ],
      "metadata": {
        "id": "N-T5_szmMsgU"
      }
    },
    {
      "cell_type": "markdown",
      "source": [
        "# 20.How do you handle POST requests in Flask?\n",
        "\n",
        "Ans-> Handling POST requests in Flask involves creating a route that listens for the POST method and then accessing the data sent in the request. The request object from Flask is used to access this data.\n"
      ],
      "metadata": {
        "id": "nL1hOqMTMsYp"
      }
    },
    {
      "cell_type": "markdown",
      "source": [
        "# 21.How would you secure a Flask API?\n",
        "\n",
        "Ans-> basic security practices are fundamental for Flask, such as employing strong cryptographic hashes for password storage, implementing protections against Cross-Site Request Forgery (CSRF) and Cross-Origin Resource Sharing (CORS), and protecting against SQL injection attacks."
      ],
      "metadata": {
        "id": "UxPZEHCSMsQo"
      }
    },
    {
      "cell_type": "markdown",
      "source": [
        "# 22.What is the significance of the Flask-RESTful extension?\n",
        "\n",
        "Ans-> The Flask RESTful extension significantly simplifies the development of RESTful APIs within Flask applications. It provides a structured way to define resources, manage HTTP methods, and handle data serialization/deserialization, leading to cleaner, more maintainable code. By leveraging the Resource class, it enables developers to define HTTP methods as class methods, making it easier to organize and manage API endpoints."
      ],
      "metadata": {
        "id": "WxwzB0PoMsIq"
      }
    },
    {
      "cell_type": "markdown",
      "source": [
        "# 23.What is the role of Flask’s session object?\n",
        "\n",
        "Ans-> In Flask, the session object allows developers to store and retrieve user-specific data across multiple HTTP requests. It's a mechanism to maintain state between requests, enabling features like login persistence and personalized experiences. Think of it as a way to \"remember\" information about a user as they navigate your web application.\n"
      ],
      "metadata": {
        "id": "G7q0aAoEMsAY"
      }
    },
    {
      "cell_type": "markdown",
      "source": [
        "# Practical"
      ],
      "metadata": {
        "id": "eGveva_XMr4s"
      }
    },
    {
      "cell_type": "markdown",
      "source": [
        "# 1. How do you create a basic Flask application?"
      ],
      "metadata": {
        "id": "FSsmiHQkMrw7"
      }
    },
    {
      "cell_type": "code",
      "execution_count": null,
      "metadata": {
        "id": "Q7OBAivXMlht",
        "colab": {
          "base_uri": "https://localhost:8080/"
        },
        "outputId": "8c5436f1-e984-4889-f427-b870025045e9"
      },
      "outputs": [
        {
          "output_type": "stream",
          "name": "stdout",
          "text": [
            "Requirement already satisfied: flask in /usr/local/lib/python3.11/dist-packages (3.1.1)\n",
            "Requirement already satisfied: blinker>=1.9.0 in /usr/local/lib/python3.11/dist-packages (from flask) (1.9.0)\n",
            "Requirement already satisfied: click>=8.1.3 in /usr/local/lib/python3.11/dist-packages (from flask) (8.2.0)\n",
            "Requirement already satisfied: itsdangerous>=2.2.0 in /usr/local/lib/python3.11/dist-packages (from flask) (2.2.0)\n",
            "Requirement already satisfied: jinja2>=3.1.2 in /usr/local/lib/python3.11/dist-packages (from flask) (3.1.6)\n",
            "Requirement already satisfied: markupsafe>=2.1.1 in /usr/local/lib/python3.11/dist-packages (from flask) (3.0.2)\n",
            "Requirement already satisfied: werkzeug>=3.1.0 in /usr/local/lib/python3.11/dist-packages (from flask) (3.1.3)\n",
            "Collecting flask-ngrok\n",
            "  Downloading flask_ngrok-0.0.25-py3-none-any.whl.metadata (1.8 kB)\n",
            "Requirement already satisfied: Flask>=0.8 in /usr/local/lib/python3.11/dist-packages (from flask-ngrok) (3.1.1)\n",
            "Requirement already satisfied: requests in /usr/local/lib/python3.11/dist-packages (from flask-ngrok) (2.32.3)\n",
            "Requirement already satisfied: blinker>=1.9.0 in /usr/local/lib/python3.11/dist-packages (from Flask>=0.8->flask-ngrok) (1.9.0)\n",
            "Requirement already satisfied: click>=8.1.3 in /usr/local/lib/python3.11/dist-packages (from Flask>=0.8->flask-ngrok) (8.2.0)\n",
            "Requirement already satisfied: itsdangerous>=2.2.0 in /usr/local/lib/python3.11/dist-packages (from Flask>=0.8->flask-ngrok) (2.2.0)\n",
            "Requirement already satisfied: jinja2>=3.1.2 in /usr/local/lib/python3.11/dist-packages (from Flask>=0.8->flask-ngrok) (3.1.6)\n",
            "Requirement already satisfied: markupsafe>=2.1.1 in /usr/local/lib/python3.11/dist-packages (from Flask>=0.8->flask-ngrok) (3.0.2)\n",
            "Requirement already satisfied: werkzeug>=3.1.0 in /usr/local/lib/python3.11/dist-packages (from Flask>=0.8->flask-ngrok) (3.1.3)\n",
            "Requirement already satisfied: charset-normalizer<4,>=2 in /usr/local/lib/python3.11/dist-packages (from requests->flask-ngrok) (3.4.2)\n",
            "Requirement already satisfied: idna<4,>=2.5 in /usr/local/lib/python3.11/dist-packages (from requests->flask-ngrok) (3.10)\n",
            "Requirement already satisfied: urllib3<3,>=1.21.1 in /usr/local/lib/python3.11/dist-packages (from requests->flask-ngrok) (2.4.0)\n",
            "Requirement already satisfied: certifi>=2017.4.17 in /usr/local/lib/python3.11/dist-packages (from requests->flask-ngrok) (2025.4.26)\n",
            "Downloading flask_ngrok-0.0.25-py3-none-any.whl (3.1 kB)\n",
            "Installing collected packages: flask-ngrok\n",
            "Successfully installed flask-ngrok-0.0.25\n",
            " * Serving Flask app '__main__'\n",
            " * Debug mode: off\n"
          ]
        },
        {
          "output_type": "stream",
          "name": "stderr",
          "text": [
            "INFO:werkzeug:\u001b[31m\u001b[1mWARNING: This is a development server. Do not use it in a production deployment. Use a production WSGI server instead.\u001b[0m\n",
            " * Running on http://127.0.0.1:5000\n",
            "INFO:werkzeug:\u001b[33mPress CTRL+C to quit\u001b[0m\n",
            "Exception in thread Thread-9:\n",
            "Traceback (most recent call last):\n",
            "  File \"/usr/local/lib/python3.11/dist-packages/urllib3/connection.py\", line 198, in _new_conn\n",
            "    sock = connection.create_connection(\n",
            "           ^^^^^^^^^^^^^^^^^^^^^^^^^^^^^\n",
            "  File \"/usr/local/lib/python3.11/dist-packages/urllib3/util/connection.py\", line 85, in create_connection\n",
            "    raise err\n",
            "  File \"/usr/local/lib/python3.11/dist-packages/urllib3/util/connection.py\", line 73, in create_connection\n",
            "    sock.connect(sa)\n",
            "ConnectionRefusedError: [Errno 111] Connection refused\n",
            "\n",
            "The above exception was the direct cause of the following exception:\n",
            "\n",
            "Traceback (most recent call last):\n",
            "  File \"/usr/local/lib/python3.11/dist-packages/urllib3/connectionpool.py\", line 787, in urlopen\n",
            "    response = self._make_request(\n",
            "               ^^^^^^^^^^^^^^^^^^^\n",
            "  File \"/usr/local/lib/python3.11/dist-packages/urllib3/connectionpool.py\", line 493, in _make_request\n",
            "    conn.request(\n",
            "  File \"/usr/local/lib/python3.11/dist-packages/urllib3/connection.py\", line 445, in request\n",
            "    self.endheaders()\n",
            "  File \"/usr/lib/python3.11/http/client.py\", line 1298, in endheaders\n",
            "    self._send_output(message_body, encode_chunked=encode_chunked)\n",
            "  File \"/usr/lib/python3.11/http/client.py\", line 1058, in _send_output\n",
            "    self.send(msg)\n",
            "  File \"/usr/lib/python3.11/http/client.py\", line 996, in send\n",
            "    self.connect()\n",
            "  File \"/usr/local/lib/python3.11/dist-packages/urllib3/connection.py\", line 276, in connect\n",
            "    self.sock = self._new_conn()\n",
            "                ^^^^^^^^^^^^^^^^\n",
            "  File \"/usr/local/lib/python3.11/dist-packages/urllib3/connection.py\", line 213, in _new_conn\n",
            "    raise NewConnectionError(\n",
            "urllib3.exceptions.NewConnectionError: <urllib3.connection.HTTPConnection object at 0x7b3b8f096750>: Failed to establish a new connection: [Errno 111] Connection refused\n",
            "\n",
            "The above exception was the direct cause of the following exception:\n",
            "\n",
            "Traceback (most recent call last):\n",
            "  File \"/usr/local/lib/python3.11/dist-packages/requests/adapters.py\", line 667, in send\n",
            "    resp = conn.urlopen(\n",
            "           ^^^^^^^^^^^^^\n",
            "  File \"/usr/local/lib/python3.11/dist-packages/urllib3/connectionpool.py\", line 841, in urlopen\n",
            "    retries = retries.increment(\n",
            "              ^^^^^^^^^^^^^^^^^^\n",
            "  File \"/usr/local/lib/python3.11/dist-packages/urllib3/util/retry.py\", line 519, in increment\n",
            "    raise MaxRetryError(_pool, url, reason) from reason  # type: ignore[arg-type]\n",
            "    ^^^^^^^^^^^^^^^^^^^^^^^^^^^^^^^^^^^^^^^^^^^^^^^^^^^\n",
            "urllib3.exceptions.MaxRetryError: HTTPConnectionPool(host='localhost', port=4040): Max retries exceeded with url: /api/tunnels (Caused by NewConnectionError('<urllib3.connection.HTTPConnection object at 0x7b3b8f096750>: Failed to establish a new connection: [Errno 111] Connection refused'))\n",
            "\n",
            "During handling of the above exception, another exception occurred:\n",
            "\n",
            "Traceback (most recent call last):\n",
            "  File \"/usr/lib/python3.11/threading.py\", line 1045, in _bootstrap_inner\n",
            "    self.run()\n",
            "  File \"/usr/lib/python3.11/threading.py\", line 1401, in run\n",
            "    self.function(*self.args, **self.kwargs)\n",
            "  File \"/usr/local/lib/python3.11/dist-packages/flask_ngrok.py\", line 70, in start_ngrok\n",
            "    ngrok_address = _run_ngrok()\n",
            "                    ^^^^^^^^^^^^\n",
            "  File \"/usr/local/lib/python3.11/dist-packages/flask_ngrok.py\", line 35, in _run_ngrok\n",
            "    tunnel_url = requests.get(localhost_url).text  # Get the tunnel information\n",
            "                 ^^^^^^^^^^^^^^^^^^^^^^^^^^^\n",
            "  File \"/usr/local/lib/python3.11/dist-packages/requests/api.py\", line 73, in get\n",
            "    return request(\"get\", url, params=params, **kwargs)\n",
            "           ^^^^^^^^^^^^^^^^^^^^^^^^^^^^^^^^^^^^^^^^^^^^\n",
            "  File \"/usr/local/lib/python3.11/dist-packages/requests/api.py\", line 59, in request\n",
            "    return session.request(method=method, url=url, **kwargs)\n",
            "           ^^^^^^^^^^^^^^^^^^^^^^^^^^^^^^^^^^^^^^^^^^^^^^^^^\n",
            "  File \"/usr/local/lib/python3.11/dist-packages/requests/sessions.py\", line 589, in request\n",
            "    resp = self.send(prep, **send_kwargs)\n",
            "           ^^^^^^^^^^^^^^^^^^^^^^^^^^^^^^\n",
            "  File \"/usr/local/lib/python3.11/dist-packages/requests/sessions.py\", line 703, in send\n",
            "    r = adapter.send(request, **kwargs)\n",
            "        ^^^^^^^^^^^^^^^^^^^^^^^^^^^^^^^\n",
            "  File \"/usr/local/lib/python3.11/dist-packages/requests/adapters.py\", line 700, in send\n",
            "    raise ConnectionError(e, request=request)\n",
            "requests.exceptions.ConnectionError: HTTPConnectionPool(host='localhost', port=4040): Max retries exceeded with url: /api/tunnels (Caused by NewConnectionError('<urllib3.connection.HTTPConnection object at 0x7b3b8f096750>: Failed to establish a new connection: [Errno 111] Connection refused'))\n"
          ]
        }
      ],
      "source": [
        "!pip install flask\n",
        "!pip install flask-ngrok\n",
        "from flask import Flask\n",
        "from flask_ngrok import run_with_ngrok\n",
        "app = Flask(__name__)\n",
        "run_with_ngrok(app)\n",
        "@app.route(\"/\")\n",
        "def hello():\n",
        " return \"Hello, World!\"\n",
        "if __name__ == '__main__':\n",
        "        app.run()"
      ]
    },
    {
      "cell_type": "markdown",
      "source": [
        "# 2.How do you serve static files like images or CSS in Flask?\n",
        "\n",
        "Ans-> To serve static files like images or CSS in Flask, a 'static' folder should be created in the same directory as the main application file. Place all static files inside this folder. Flask automatically serves files from this directory under the /static route.\n",
        "To reference these files in HTML templates, the url_for() function can be used. For example, to include a CSS file named style.css located in the static/css directory, the following code can be added to the HTML template:"
      ],
      "metadata": {
        "id": "-QtV8SOINogJ"
      }
    },
    {
      "cell_type": "code",
      "source": [
        "from flask import current_app\n",
        "\n",
        "@app.route('/logo')\n",
        "def flask_logo():\n",
        "    return current_app.send_static_file('flask-logo.png')"
      ],
      "metadata": {
        "id": "nhxRAhjV6dNF"
      },
      "execution_count": null,
      "outputs": []
    },
    {
      "cell_type": "markdown",
      "source": [
        "# 3.How do you define different routes with different HTTP methods in Flask?"
      ],
      "metadata": {
        "id": "Pgj6kwJ4NpVR"
      }
    },
    {
      "cell_type": "code",
      "source": [
        "from flask import Flask, request\n",
        "\n",
        "app = Flask(__name__)\n",
        "\n",
        "@app.route('/data', methods=['GET'])\n",
        "def get_data():\n",
        "    return \"Data retrieved (GET)\"\n",
        "\n",
        "@app.route('/data', methods=['POST'])\n",
        "def post_data():\n",
        "    return \"Data created (POST)\"\n",
        "\n",
        "@app.route('/data', methods=['PUT'])\n",
        "def put_data():\n",
        "    return \"Data updated (PUT)\"\n",
        "\n",
        "@app.route('/data', methods=['DELETE'])\n",
        "def delete_data():\n",
        "    return \"Data deleted (DELETE)\"\n",
        "\n",
        "if __name__ == '__main__':\n",
        "    app.run(debug=True)"
      ],
      "metadata": {
        "id": "lUdBDft1Npqh"
      },
      "execution_count": null,
      "outputs": []
    },
    {
      "cell_type": "markdown",
      "source": [
        "# 4.How do you render HTML templates in Flask?"
      ],
      "metadata": {
        "id": "3JnRKasENqFl"
      }
    },
    {
      "cell_type": "code",
      "source": [
        "from flask import Flask, render_template\n",
        "\n",
        "app = Flask(__name__)\n",
        "\n",
        "@app.route('/')\n",
        "def home():\n",
        "    return render_template('index.html', message='Hello, Flask!')\n",
        "\n",
        "if __name__ == '__main__':\n",
        "    app.run(debug=True)"
      ],
      "metadata": {
        "id": "fkaCF5-TNqWG"
      },
      "execution_count": null,
      "outputs": []
    },
    {
      "cell_type": "markdown",
      "source": [
        "# 5.How can you generate URLs for routes in Flask using url_for?"
      ],
      "metadata": {
        "id": "1RgSSv07NqyH"
      }
    },
    {
      "cell_type": "code",
      "source": [
        "from flask import Flask, url_for\n",
        "\n",
        "app = Flask(__name__)\n",
        "\n",
        "@app.route('/')\n",
        "def index():\n",
        "    return 'Index Page'\n",
        "\n",
        "@app.route('/login')\n",
        "def login():\n",
        "    return 'Login Page'\n",
        "\n",
        "@app.route('/user/<username>')\n",
        "def profile(username):\n",
        "    return f'{username}\\'s profile'\n",
        "\n",
        "with app.test_request_context():\n",
        "    print(url_for('index'))\n",
        "    print(url_for('login'))\n",
        "    print(url_for('profile', username='JohnDoe'))\n",
        "    print(url_for('profile', username='JaneDoe'))"
      ],
      "metadata": {
        "id": "ergPfYgeNrDF"
      },
      "execution_count": null,
      "outputs": []
    },
    {
      "cell_type": "markdown",
      "source": [
        "# 6.How do you handle forms in Flask?"
      ],
      "metadata": {
        "id": "5v41Cv_7NrWF"
      }
    },
    {
      "cell_type": "code",
      "source": [
        "!pip install Flask-WTF WTForms\n",
        "from flask_wtf import FlaskForm\n",
        "from wtforms import StringField, PasswordField, SubmitField\n",
        "from wtforms.validators import DataRequired, Email, Length\n",
        "\n",
        "class RegistrationForm(FlaskForm):\n",
        "        username = StringField('Username', validators=[DataRequired(), Length(min=4, max=20)])\n",
        "        email = StringField('Email', validators=[DataRequired(), Email()])\n",
        "        password = PasswordField('Password', validators=[DataRequired()])\n",
        "        submit = SubmitField('Sign Up')\n",
        "from flask import Flask, render_template, request, redirect, url_for\n",
        "from forms import RegistrationForm\n",
        "\n",
        "app = Flask(__name__)\n",
        "app.config['SECRET_KEY'] = 'your_secret_key'\n",
        "@app.route('/register', methods=['GET', 'POST'])\n",
        "def register():\n",
        "        form = RegistrationForm()\n",
        "        if request.method == 'POST' and form.validate_on_submit():\n",
        "\n",
        "            username = form.username.data\n",
        "            email = form.email.data\n",
        "            password = form.password.data\n",
        "\n",
        "            return redirect(url_for('success'))\n",
        "        return render_template('register.html', form=form)"
      ],
      "metadata": {
        "id": "BPfe6apmNrof"
      },
      "execution_count": null,
      "outputs": []
    },
    {
      "cell_type": "markdown",
      "source": [
        "# 7.How can you validate form data in Flask?"
      ],
      "metadata": {
        "id": "zwyO2TH3Nr7l"
      }
    },
    {
      "cell_type": "code",
      "source": [
        "!pip install Flask-WTF\n",
        "from flask_wtf import FlaskForm\n",
        "from wtforms import StringField, PasswordField, SubmitField\n",
        "from wtforms.validators import InputRequired, Email, Length\n",
        "\n",
        "class RegistrationForm(FlaskForm):\n",
        "        name = StringField('Name', validators=[InputRequired(), Length(min=2, max=50)])\n",
        "        email = StringField('Email', validators=[InputRequired(), Email()])\n",
        "        password = PasswordField('Password', validators=[InputRequired(), Length(min=8)])\n",
        "        submit = SubmitField('Sign Up')\n",
        "from flask import Flask\n",
        "app = Flask(__name__)\n",
        "app.config['SECRET_KEY'] = 'your_secret_key'"
      ],
      "metadata": {
        "id": "PQhwdYj0NsMs"
      },
      "execution_count": null,
      "outputs": []
    },
    {
      "cell_type": "markdown",
      "source": [
        "# 8.How do you manage sessions in Flask?"
      ],
      "metadata": {
        "id": "rBqAERbXOIeT"
      }
    },
    {
      "cell_type": "code",
      "source": [
        "app = Flask(__name__)\n",
        "app.secret_key = 'your_secret_key'\n",
        "from flask import session\n",
        "\n",
        "session['username'] = user.username\n",
        "username = session.get('username')\n",
        "session.pop('username', None)\n",
        "session.clear()\n",
        "from datetime import timedelta\n",
        "\n",
        "app.config['PERMANENT_SESSION_LIFETIME'] = timedelta(days=7)"
      ],
      "metadata": {
        "id": "cIZwSX-3OI4h"
      },
      "execution_count": null,
      "outputs": []
    },
    {
      "cell_type": "markdown",
      "source": [
        "# 9. How do you redirect to a different route in Flask?"
      ],
      "metadata": {
        "id": "OJBrebMmNsn9"
      }
    },
    {
      "cell_type": "code",
      "source": [
        "from flask import Flask, redirect, url_for\n",
        "\n",
        "app = Flask(__name__)\n",
        "\n",
        "@app.route('/')\n",
        "def index():\n",
        "    return 'This is the index page.'\n",
        "\n",
        "@app.route('/profile')\n",
        "def profile():\n",
        "    return 'This is the profile page.'\n",
        "\n",
        "@app.route('/redirect-to-profile')\n",
        "def redirect_to_profile():\n",
        "    return redirect(url_for('profile'))\n",
        "\n",
        "if __name__ == '__main__':\n",
        "    app.run(debug=True)"
      ],
      "metadata": {
        "id": "557PknnPNs6F"
      },
      "execution_count": null,
      "outputs": []
    },
    {
      "cell_type": "markdown",
      "source": [
        "# 10.How do you handle errors in Flask (e.g., 404)?"
      ],
      "metadata": {
        "id": "rfCMig_hNtK0"
      }
    },
    {
      "cell_type": "code",
      "source": [
        "from flask import Flask, render_template\n",
        "\n",
        "app = Flask(__name__)\n",
        "\n",
        "@app.errorhandler(404)\n",
        "\n",
        "def not_found(e):\n",
        "\n",
        "  return render_template(\"404.html\")"
      ],
      "metadata": {
        "id": "Cck4Qlv-NtXp"
      },
      "execution_count": null,
      "outputs": []
    },
    {
      "cell_type": "markdown",
      "source": [
        "# 11.How do you structure a Flask app using Blueprints?"
      ],
      "metadata": {
        "id": "m8rirAu_Ntrd"
      }
    },
    {
      "cell_type": "code",
      "source": [
        "from flask import Blueprint\n",
        "main_bp = Blueprint('main', __name__, url_prefix='/')\n",
        "from app.main import routes\n",
        "from flask import Blueprint\n",
        "auth_bp = Blueprint('auth', __name__, url_prefix='/auth')\n",
        "from app.auth import routes\n",
        "from app.main import main_bp\n",
        "from flask import render_template\n",
        "\n",
        "@main_bp.route('/')\n",
        "def index():\n",
        "   return render_template('index.html')\n",
        "\n",
        "from app.auth import auth_bp\n",
        "from flask import render_template\n",
        "\n",
        "@auth_bp.route('/login')\n",
        "def login():\n",
        " return render_template('login.html')\n",
        "\n",
        "from flask import Flask\n",
        "from app.main import main_bp\n",
        "from app.auth import auth_bp\n",
        "\n",
        "def create_app():\n",
        "app = Flask(__name__)\n",
        "app.register_blueprint(main_bp)\n",
        "app.register_blueprint(auth_bp)\n",
        "\n",
        "from app import create_app\n",
        "\n",
        "app = create_app()\n",
        "\n",
        "if __name__ == '__main__':\n",
        " app.run(debug=True)\n",
        "class Config:\n",
        "        DEBUG = True\n",
        "\n",
        ""
      ],
      "metadata": {
        "id": "Y5iSIKtbNt61"
      },
      "execution_count": null,
      "outputs": []
    },
    {
      "cell_type": "markdown",
      "source": [
        "# 12.How do you define a custom Jinja filter in Flask?"
      ],
      "metadata": {
        "id": "tyX3V7SBNuOf"
      }
    },
    {
      "cell_type": "code",
      "source": [
        "from flask import Flask\n",
        "\n",
        "app = Flask(__name__)\n",
        "\n",
        "@app.template_filter('reverse_string')\n",
        "def reverse_string(s):\n",
        "    \"\"\"Reverses the input string.\"\"\"\n",
        "    return s[::-1]\n",
        "\n",
        "if __name__ == '__main__':\n",
        "    app.run(debug=True)\n",
        "def reverse_string(s):\n",
        "    return s[::-1]\n",
        "\n",
        "app.jinja_env.filters['reverse_string'] = reverse_string"
      ],
      "metadata": {
        "id": "puGq85anNutf"
      },
      "execution_count": null,
      "outputs": []
    },
    {
      "cell_type": "markdown",
      "source": [
        "# 13.How can you redirect with query parameters in Flask?"
      ],
      "metadata": {
        "id": "sZjns-63NvBP"
      }
    },
    {
      "cell_type": "code",
      "source": [
        "from flask import Flask, redirect, url_for\n",
        "\n",
        "app = Flask(__name__)\n",
        "\n",
        "@app.route('/profile')\n",
        "def profile():\n",
        "    return 'User profile page'\n",
        "\n",
        "@app.route('/redirect_with_query')\n",
        "def redirect_with_query():\n",
        "    return redirect(url_for('profile', user_id=123, active=True))\n",
        "\n",
        "if __name__ == '__main__':\n",
        "    app.run(debug=True)"
      ],
      "metadata": {
        "id": "k2M-9udqNvam"
      },
      "execution_count": null,
      "outputs": []
    },
    {
      "cell_type": "markdown",
      "source": [
        "# 14.How do you return JSON responses in Flask?"
      ],
      "metadata": {
        "id": "s6dSllrbNv03"
      }
    },
    {
      "cell_type": "code",
      "source": [
        "from flask import Flask, jsonify\n",
        "\n",
        "app = Flask(__name__)\n",
        "\n",
        "@app.route('/api/data')\n",
        "def get_data():\n",
        "    data = {'message': 'Hello, world!', 'status': 'success'}\n",
        "    return jsonify(data)\n",
        "from flask import Flask\n",
        "\n",
        "app = Flask(__name__)\n",
        "\n",
        "@app.route('/api/data')\n",
        "def get_data():\n",
        "    data = {'message': 'Hello, world!', 'status': 'success'}\n",
        "    return data\n",
        "from flask import Flask, jsonify\n",
        "\n",
        "app = Flask(__name__)\n",
        "\n",
        "@app.route('/api/error')\n",
        "def error_response():\n",
        "    return jsonify({'error': 'Not found'}), 404\n",
        "from flask import Flask, jsonify, make_response\n",
        "\n",
        "app = Flask(__name__)\n",
        "\n",
        "@app.route('/api/custom')\n",
        "def custom_response():\n",
        "  data = {'message': 'Custom response'}\n",
        "  response = make_response(jsonify(data), 201)\n",
        "  response.headers['Content-Type'] = 'application/json'\n",
        "  return response"
      ],
      "metadata": {
        "id": "xrtr_fo-NwDb"
      },
      "execution_count": null,
      "outputs": []
    },
    {
      "cell_type": "markdown",
      "source": [
        "# 15.How do you capture URL parameters in Flask?\n"
      ],
      "metadata": {
        "id": "7Gq2TsWjNwVZ"
      }
    },
    {
      "cell_type": "code",
      "source": [
        "from flask import Flask\n",
        "\n",
        "app = Flask(__name__)\n",
        "\n",
        "@app.route('/users/<username>')\n",
        "def show_user_profile(username):\n",
        "    return f'User: {username}'\n",
        "\n",
        "@app.route('/posts/<int:post_id>')\n",
        "def show_post(post_id):\n",
        "    return f'Post ID: {post_id}'\n",
        "from flask import Flask, request\n",
        "\n",
        "app = Flask(__name__)\n",
        "\n",
        "@app.route('/search')\n",
        "def search():\n",
        "    query = request.args.get('q')\n",
        "    page = request.args.get('page', default=1, type=int)\n",
        "    return f'Query: {query}, Page: {page}'"
      ],
      "metadata": {
        "id": "vDN1RD4ZNwoZ"
      },
      "execution_count": null,
      "outputs": []
    }
  ]
}